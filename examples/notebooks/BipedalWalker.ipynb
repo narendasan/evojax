{
 "cells": [
  {
   "cell_type": "code",
   "execution_count": 1,
   "metadata": {},
   "outputs": [],
   "source": [
    "from IPython.display import clear_output, Image\n",
    "\n",
    "clear_output()"
   ]
  },
  {
   "cell_type": "code",
   "execution_count": 2,
   "metadata": {},
   "outputs": [],
   "source": [
    "import os\n",
    "import numpy as np\n",
    "import jax\n",
    "import jax.numpy as jnp\n",
    "\n",
    "from evojax.task.bipedal_walker import BipedalWalker\n",
    "from evojax.policy.mlp import MLPPolicy\n",
    "from evojax.algo import PGPE\n",
    "from evojax import Trainer\n",
    "from evojax.util import create_logger"
   ]
  },
  {
   "cell_type": "code",
   "execution_count": 3,
   "metadata": {},
   "outputs": [],
   "source": [
    "# Let's create a directory to save logs and models.\n",
    "log_dir = './log'\n",
    "logger = create_logger(name='EvoJAX', log_dir=log_dir)\n",
    "logger.info('Welcome to the tutorial on Task creation!')\n",
    "\n",
    "logger.info('Jax backend: {}'.format(jax.local_devices()))"
   ]
  },
  {
   "cell_type": "code",
   "execution_count": 5,
   "metadata": {},
   "outputs": [
    {
     "ename": "Error",
     "evalue": "Seed must be a non-negative integer or omitted, not Traced<ShapedArray(uint32[2])>with<BatchTrace(level=1/1)> with\n  val = Traced<ShapedArray(uint32[320,2])>with<DynamicJaxprTrace(level=0/1)>\n  batch_dim = 0",
     "output_type": "error",
     "traceback": [
      "\u001b[0;31m---------------------------------------------------------------------------\u001b[0m",
      "\u001b[0;31mError\u001b[0m                                     Traceback (most recent call last)",
      "\u001b[1;32m/Users/naren/Developer/py/evojax/examples/notebooks/BipedalWalker.ipynb Cell 4\u001b[0m in \u001b[0;36m<cell line: 43>\u001b[0;34m()\u001b[0m\n\u001b[1;32m     <a href='vscode-notebook-cell:/Users/naren/Developer/py/evojax/examples/notebooks/BipedalWalker.ipynb#ch0000003?line=26'>27</a>\u001b[0m \u001b[39m# Now that we have all the three components instantiated, we can create a\u001b[39;00m\n\u001b[1;32m     <a href='vscode-notebook-cell:/Users/naren/Developer/py/evojax/examples/notebooks/BipedalWalker.ipynb#ch0000003?line=27'>28</a>\u001b[0m \u001b[39m# trainer and start the training process.\u001b[39;00m\n\u001b[1;32m     <a href='vscode-notebook-cell:/Users/naren/Developer/py/evojax/examples/notebooks/BipedalWalker.ipynb#ch0000003?line=28'>29</a>\u001b[0m trainer \u001b[39m=\u001b[39m Trainer(\n\u001b[1;32m     <a href='vscode-notebook-cell:/Users/naren/Developer/py/evojax/examples/notebooks/BipedalWalker.ipynb#ch0000003?line=29'>30</a>\u001b[0m     policy\u001b[39m=\u001b[39mpolicy,\n\u001b[1;32m     <a href='vscode-notebook-cell:/Users/naren/Developer/py/evojax/examples/notebooks/BipedalWalker.ipynb#ch0000003?line=30'>31</a>\u001b[0m     solver\u001b[39m=\u001b[39msolver,\n\u001b[0;32m   (...)\u001b[0m\n\u001b[1;32m     <a href='vscode-notebook-cell:/Users/naren/Developer/py/evojax/examples/notebooks/BipedalWalker.ipynb#ch0000003?line=40'>41</a>\u001b[0m     logger\u001b[39m=\u001b[39mlogger,\n\u001b[1;32m     <a href='vscode-notebook-cell:/Users/naren/Developer/py/evojax/examples/notebooks/BipedalWalker.ipynb#ch0000003?line=41'>42</a>\u001b[0m )\n\u001b[0;32m---> <a href='vscode-notebook-cell:/Users/naren/Developer/py/evojax/examples/notebooks/BipedalWalker.ipynb#ch0000003?line=42'>43</a>\u001b[0m _ \u001b[39m=\u001b[39m trainer\u001b[39m.\u001b[39;49mrun()\n",
      "File \u001b[0;32m~/Developer/py/evojax/evojax/trainer.py:152\u001b[0m, in \u001b[0;36mTrainer.run\u001b[0;34m(self, demo_mode)\u001b[0m\n\u001b[1;32m    148\u001b[0m \u001b[39mself\u001b[39m\u001b[39m.\u001b[39m_logger\u001b[39m.\u001b[39mdebug(\u001b[39m'\u001b[39m\u001b[39msolver.ask time: \u001b[39m\u001b[39m{0:.4f}\u001b[39;00m\u001b[39ms\u001b[39m\u001b[39m'\u001b[39m\u001b[39m.\u001b[39mformat(\n\u001b[1;32m    149\u001b[0m     time\u001b[39m.\u001b[39mperf_counter() \u001b[39m-\u001b[39m start_time))\n\u001b[1;32m    151\u001b[0m start_time \u001b[39m=\u001b[39m time\u001b[39m.\u001b[39mperf_counter()\n\u001b[0;32m--> 152\u001b[0m scores, bds \u001b[39m=\u001b[39m \u001b[39mself\u001b[39;49m\u001b[39m.\u001b[39;49msim_mgr\u001b[39m.\u001b[39;49meval_params(\n\u001b[1;32m    153\u001b[0m     params\u001b[39m=\u001b[39;49mparams, test\u001b[39m=\u001b[39;49m\u001b[39mFalse\u001b[39;49;00m)\n\u001b[1;32m    154\u001b[0m \u001b[39mself\u001b[39m\u001b[39m.\u001b[39m_logger\u001b[39m.\u001b[39mdebug(\u001b[39m'\u001b[39m\u001b[39msim_mgr.eval_params time: \u001b[39m\u001b[39m{0:.4f}\u001b[39;00m\u001b[39ms\u001b[39m\u001b[39m'\u001b[39m\u001b[39m.\u001b[39mformat(\n\u001b[1;32m    155\u001b[0m     time\u001b[39m.\u001b[39mperf_counter() \u001b[39m-\u001b[39m start_time))\n\u001b[1;32m    157\u001b[0m start_time \u001b[39m=\u001b[39m time\u001b[39m.\u001b[39mperf_counter()\n",
      "File \u001b[0;32m~/Developer/py/evojax/evojax/sim_mgr.py:258\u001b[0m, in \u001b[0;36mSimManager.eval_params\u001b[0;34m(self, params, test)\u001b[0m\n\u001b[1;32m    256\u001b[0m     \u001b[39mreturn\u001b[39;00m \u001b[39mself\u001b[39m\u001b[39m.\u001b[39m_for_loop_eval(params, test)\n\u001b[1;32m    257\u001b[0m \u001b[39melse\u001b[39;00m:\n\u001b[0;32m--> 258\u001b[0m     \u001b[39mreturn\u001b[39;00m \u001b[39mself\u001b[39;49m\u001b[39m.\u001b[39;49m_scan_loop_eval(params, test)\n",
      "File \u001b[0;32m~/Developer/py/evojax/evojax/sim_mgr.py:347\u001b[0m, in \u001b[0;36mSimManager._scan_loop_eval\u001b[0;34m(self, params, test)\u001b[0m\n\u001b[1;32m    342\u001b[0m \u001b[39mself\u001b[39m\u001b[39m.\u001b[39m_key, reset_keys \u001b[39m=\u001b[39m get_task_reset_keys(\n\u001b[1;32m    343\u001b[0m     \u001b[39mself\u001b[39m\u001b[39m.\u001b[39m_key, test, \u001b[39mself\u001b[39m\u001b[39m.\u001b[39m_pop_size, \u001b[39mself\u001b[39m\u001b[39m.\u001b[39m_n_evaluations, n_repeats,\n\u001b[1;32m    344\u001b[0m     \u001b[39mself\u001b[39m\u001b[39m.\u001b[39m_ma_training)\n\u001b[1;32m    346\u001b[0m \u001b[39m# Reset the tasks and the policy.\u001b[39;00m\n\u001b[0;32m--> 347\u001b[0m task_state \u001b[39m=\u001b[39m task_reset_func(reset_keys)\n\u001b[1;32m    348\u001b[0m policy_state \u001b[39m=\u001b[39m policy_reset_func(task_state)\n\u001b[1;32m    349\u001b[0m \u001b[39mif\u001b[39;00m \u001b[39mself\u001b[39m\u001b[39m.\u001b[39m_num_device \u001b[39m>\u001b[39m \u001b[39m1\u001b[39m:\n",
      "File \u001b[0;32m~/Developer/py/evojax/evojax/task/bipedal_walker.py:52\u001b[0m, in \u001b[0;36mBipedalWalker.reset\u001b[0;34m(self, key)\u001b[0m\n\u001b[1;32m     51\u001b[0m \u001b[39mdef\u001b[39;00m \u001b[39mreset\u001b[39m(\u001b[39mself\u001b[39m, key):\n\u001b[0;32m---> 52\u001b[0m     \u001b[39mreturn\u001b[39;00m \u001b[39mself\u001b[39;49m\u001b[39m.\u001b[39;49m_reset_fn(key)\n",
      "    \u001b[0;31m[... skipping hidden 17 frame]\u001b[0m\n",
      "File \u001b[0;32m~/Developer/py/evojax/evojax/task/bipedal_walker.py:37\u001b[0m, in \u001b[0;36mBipedalWalker.__init__.<locals>.reset_fn\u001b[0;34m(key)\u001b[0m\n\u001b[1;32m     35\u001b[0m \u001b[39mdef\u001b[39;00m \u001b[39mreset_fn\u001b[39m(key):\n\u001b[1;32m     36\u001b[0m     next_key, key \u001b[39m=\u001b[39m jax\u001b[39m.\u001b[39mrandom\u001b[39m.\u001b[39msplit(key)\n\u001b[0;32m---> 37\u001b[0m     next_state, info \u001b[39m=\u001b[39m \u001b[39mself\u001b[39;49m\u001b[39m.\u001b[39;49menv\u001b[39m.\u001b[39;49mreset(seed\u001b[39m=\u001b[39;49mkey)\n\u001b[1;32m     38\u001b[0m     \u001b[39mreturn\u001b[39;00m State(\n\u001b[1;32m     39\u001b[0m         obs\u001b[39m=\u001b[39mnext_state,\n\u001b[1;32m     40\u001b[0m         state\u001b[39m=\u001b[39mnext_state,\n\u001b[1;32m     41\u001b[0m         steps\u001b[39m=\u001b[39mjnp\u001b[39m.\u001b[39mzeros((), dtype\u001b[39m=\u001b[39m\u001b[39mint\u001b[39m),\n\u001b[1;32m     42\u001b[0m         key\u001b[39m=\u001b[39mnext_key\n\u001b[1;32m     43\u001b[0m     )\n",
      "File \u001b[0;32m~/.miniconda3/envs/evojax/lib/python3.9/site-packages/gym/wrappers/time_limit.py:83\u001b[0m, in \u001b[0;36mTimeLimit.reset\u001b[0;34m(self, **kwargs)\u001b[0m\n\u001b[1;32m     74\u001b[0m \u001b[39m\"\"\"Resets the environment with :param:`**kwargs` and sets the number of steps elapsed to zero.\u001b[39;00m\n\u001b[1;32m     75\u001b[0m \n\u001b[1;32m     76\u001b[0m \u001b[39mArgs:\u001b[39;00m\n\u001b[0;32m   (...)\u001b[0m\n\u001b[1;32m     80\u001b[0m \u001b[39m    The reset environment\u001b[39;00m\n\u001b[1;32m     81\u001b[0m \u001b[39m\"\"\"\u001b[39;00m\n\u001b[1;32m     82\u001b[0m \u001b[39mself\u001b[39m\u001b[39m.\u001b[39m_elapsed_steps \u001b[39m=\u001b[39m \u001b[39m0\u001b[39m\n\u001b[0;32m---> 83\u001b[0m \u001b[39mreturn\u001b[39;00m \u001b[39mself\u001b[39;49m\u001b[39m.\u001b[39;49menv\u001b[39m.\u001b[39;49mreset(\u001b[39m*\u001b[39;49m\u001b[39m*\u001b[39;49mkwargs)\n",
      "File \u001b[0;32m~/.miniconda3/envs/evojax/lib/python3.9/site-packages/gym/wrappers/order_enforcing.py:42\u001b[0m, in \u001b[0;36mOrderEnforcing.reset\u001b[0;34m(self, **kwargs)\u001b[0m\n\u001b[1;32m     40\u001b[0m \u001b[39m\"\"\"Resets the environment with `kwargs`.\"\"\"\u001b[39;00m\n\u001b[1;32m     41\u001b[0m \u001b[39mself\u001b[39m\u001b[39m.\u001b[39m_has_reset \u001b[39m=\u001b[39m \u001b[39mTrue\u001b[39;00m\n\u001b[0;32m---> 42\u001b[0m \u001b[39mreturn\u001b[39;00m \u001b[39mself\u001b[39;49m\u001b[39m.\u001b[39;49menv\u001b[39m.\u001b[39;49mreset(\u001b[39m*\u001b[39;49m\u001b[39m*\u001b[39;49mkwargs)\n",
      "File \u001b[0;32m~/.miniconda3/envs/evojax/lib/python3.9/site-packages/gym/core.py:427\u001b[0m, in \u001b[0;36mWrapper.reset\u001b[0;34m(self, **kwargs)\u001b[0m\n\u001b[1;32m    425\u001b[0m \u001b[39mdef\u001b[39;00m \u001b[39mreset\u001b[39m(\u001b[39mself\u001b[39m, \u001b[39m*\u001b[39m\u001b[39m*\u001b[39mkwargs) \u001b[39m-\u001b[39m\u001b[39m>\u001b[39m Union[ObsType, Tuple[ObsType, \u001b[39mdict\u001b[39m]]:\n\u001b[1;32m    426\u001b[0m     \u001b[39m\"\"\"Resets the environment with kwargs.\"\"\"\u001b[39;00m\n\u001b[0;32m--> 427\u001b[0m     \u001b[39mreturn\u001b[39;00m \u001b[39mself\u001b[39;49m\u001b[39m.\u001b[39;49menv\u001b[39m.\u001b[39;49mreset(\u001b[39m*\u001b[39;49m\u001b[39m*\u001b[39;49mkwargs)\n",
      "File \u001b[0;32m~/.miniconda3/envs/evojax/lib/python3.9/site-packages/gym/wrappers/env_checker.py:45\u001b[0m, in \u001b[0;36mPassiveEnvChecker.reset\u001b[0;34m(self, **kwargs)\u001b[0m\n\u001b[1;32m     43\u001b[0m \u001b[39mif\u001b[39;00m \u001b[39mself\u001b[39m\u001b[39m.\u001b[39mchecked_reset \u001b[39mis\u001b[39;00m \u001b[39mFalse\u001b[39;00m:\n\u001b[1;32m     44\u001b[0m     \u001b[39mself\u001b[39m\u001b[39m.\u001b[39mchecked_reset \u001b[39m=\u001b[39m \u001b[39mTrue\u001b[39;00m\n\u001b[0;32m---> 45\u001b[0m     \u001b[39mreturn\u001b[39;00m env_reset_passive_checker(\u001b[39mself\u001b[39;49m\u001b[39m.\u001b[39;49menv, \u001b[39m*\u001b[39;49m\u001b[39m*\u001b[39;49mkwargs)\n\u001b[1;32m     46\u001b[0m \u001b[39melse\u001b[39;00m:\n\u001b[1;32m     47\u001b[0m     \u001b[39mreturn\u001b[39;00m \u001b[39mself\u001b[39m\u001b[39m.\u001b[39menv\u001b[39m.\u001b[39mreset(\u001b[39m*\u001b[39m\u001b[39m*\u001b[39mkwargs)\n",
      "File \u001b[0;32m~/.miniconda3/envs/evojax/lib/python3.9/site-packages/gym/utils/passive_env_checker.py:200\u001b[0m, in \u001b[0;36menv_reset_passive_checker\u001b[0;34m(env, **kwargs)\u001b[0m\n\u001b[1;32m    195\u001b[0m     logger\u001b[39m.\u001b[39mwarn(\n\u001b[1;32m    196\u001b[0m         \u001b[39m\"\u001b[39m\u001b[39mFuture gym versions will require that `Env.reset` can be passed `options` to allow the environment initialisation to be passed additional information.\u001b[39m\u001b[39m\"\u001b[39m\n\u001b[1;32m    197\u001b[0m     )\n\u001b[1;32m    199\u001b[0m \u001b[39m# Checks the result of env.reset with kwargs\u001b[39;00m\n\u001b[0;32m--> 200\u001b[0m result \u001b[39m=\u001b[39m env\u001b[39m.\u001b[39;49mreset(\u001b[39m*\u001b[39;49m\u001b[39m*\u001b[39;49mkwargs)\n\u001b[1;32m    201\u001b[0m \u001b[39mif\u001b[39;00m kwargs\u001b[39m.\u001b[39mget(\u001b[39m\"\u001b[39m\u001b[39mreturn_info\u001b[39m\u001b[39m\"\u001b[39m, \u001b[39mFalse\u001b[39;00m) \u001b[39mis\u001b[39;00m \u001b[39mTrue\u001b[39;00m:\n\u001b[1;32m    202\u001b[0m     \u001b[39massert\u001b[39;00m \u001b[39misinstance\u001b[39m(\n\u001b[1;32m    203\u001b[0m         result, \u001b[39mtuple\u001b[39m\n\u001b[1;32m    204\u001b[0m     ), \u001b[39mf\u001b[39m\u001b[39m\"\u001b[39m\u001b[39mThe result returned by `env.reset(return_info=True)` was not a tuple, actual type: \u001b[39m\u001b[39m{\u001b[39;00m\u001b[39mtype\u001b[39m(result)\u001b[39m}\u001b[39;00m\u001b[39m\"\u001b[39m\n",
      "File \u001b[0;32m~/.miniconda3/envs/evojax/lib/python3.9/site-packages/gym/envs/box2d/bipedal_walker.py:434\u001b[0m, in \u001b[0;36mBipedalWalker.reset\u001b[0;34m(self, seed, return_info, options)\u001b[0m\n\u001b[1;32m    427\u001b[0m \u001b[39mdef\u001b[39;00m \u001b[39mreset\u001b[39m(\n\u001b[1;32m    428\u001b[0m     \u001b[39mself\u001b[39m,\n\u001b[1;32m    429\u001b[0m     \u001b[39m*\u001b[39m,\n\u001b[0;32m   (...)\u001b[0m\n\u001b[1;32m    432\u001b[0m     options: Optional[\u001b[39mdict\u001b[39m] \u001b[39m=\u001b[39m \u001b[39mNone\u001b[39;00m,\n\u001b[1;32m    433\u001b[0m ):\n\u001b[0;32m--> 434\u001b[0m     \u001b[39msuper\u001b[39;49m()\u001b[39m.\u001b[39;49mreset(seed\u001b[39m=\u001b[39;49mseed)\n\u001b[1;32m    435\u001b[0m     \u001b[39mself\u001b[39m\u001b[39m.\u001b[39m_destroy()\n\u001b[1;32m    436\u001b[0m     \u001b[39mself\u001b[39m\u001b[39m.\u001b[39mworld\u001b[39m.\u001b[39mcontactListener_bug_workaround \u001b[39m=\u001b[39m ContactDetector(\u001b[39mself\u001b[39m)\n",
      "File \u001b[0;32m~/.miniconda3/envs/evojax/lib/python3.9/site-packages/gym/core.py:207\u001b[0m, in \u001b[0;36mEnv.reset\u001b[0;34m(self, seed, return_info, options)\u001b[0m\n\u001b[1;32m    205\u001b[0m \u001b[39m# Initialize the RNG if the seed is manually passed\u001b[39;00m\n\u001b[1;32m    206\u001b[0m \u001b[39mif\u001b[39;00m seed \u001b[39mis\u001b[39;00m \u001b[39mnot\u001b[39;00m \u001b[39mNone\u001b[39;00m:\n\u001b[0;32m--> 207\u001b[0m     \u001b[39mself\u001b[39m\u001b[39m.\u001b[39m_np_random, seed \u001b[39m=\u001b[39m seeding\u001b[39m.\u001b[39;49mnp_random(seed)\n",
      "File \u001b[0;32m~/.miniconda3/envs/evojax/lib/python3.9/site-packages/gym/utils/seeding.py:26\u001b[0m, in \u001b[0;36mnp_random\u001b[0;34m(seed)\u001b[0m\n\u001b[1;32m     14\u001b[0m \u001b[39m\"\"\"Generates a random number generator from the seed and returns the Generator and seed.\u001b[39;00m\n\u001b[1;32m     15\u001b[0m \n\u001b[1;32m     16\u001b[0m \u001b[39mArgs:\u001b[39;00m\n\u001b[0;32m   (...)\u001b[0m\n\u001b[1;32m     23\u001b[0m \u001b[39m    Error: Seed must be a non-negative integer or omitted\u001b[39;00m\n\u001b[1;32m     24\u001b[0m \u001b[39m\"\"\"\u001b[39;00m\n\u001b[1;32m     25\u001b[0m \u001b[39mif\u001b[39;00m seed \u001b[39mis\u001b[39;00m \u001b[39mnot\u001b[39;00m \u001b[39mNone\u001b[39;00m \u001b[39mand\u001b[39;00m \u001b[39mnot\u001b[39;00m (\u001b[39misinstance\u001b[39m(seed, \u001b[39mint\u001b[39m) \u001b[39mand\u001b[39;00m \u001b[39m0\u001b[39m \u001b[39m<\u001b[39m\u001b[39m=\u001b[39m seed):\n\u001b[0;32m---> 26\u001b[0m     \u001b[39mraise\u001b[39;00m error\u001b[39m.\u001b[39mError(\u001b[39mf\u001b[39m\u001b[39m\"\u001b[39m\u001b[39mSeed must be a non-negative integer or omitted, not \u001b[39m\u001b[39m{\u001b[39;00mseed\u001b[39m}\u001b[39;00m\u001b[39m\"\u001b[39m)\n\u001b[1;32m     28\u001b[0m seed_seq \u001b[39m=\u001b[39m np\u001b[39m.\u001b[39mrandom\u001b[39m.\u001b[39mSeedSequence(seed)\n\u001b[1;32m     29\u001b[0m np_seed \u001b[39m=\u001b[39m seed_seq\u001b[39m.\u001b[39mentropy\n",
      "\u001b[0;31mError\u001b[0m: Seed must be a non-negative integer or omitted, not Traced<ShapedArray(uint32[2])>with<BatchTrace(level=1/1)> with\n  val = Traced<ShapedArray(uint32[320,2])>with<DynamicJaxprTrace(level=0/1)>\n  batch_dim = 0"
     ]
    }
   ],
   "source": [
    "\n",
    "\n",
    "seed = 42  # Wish me luck!\n",
    "\n",
    "hard = False\n",
    "train_task = BipedalWalker(test=False)\n",
    "test_task = BipedalWalker(test=True)\n",
    "\n",
    "# We use a feedforward network as our policy.\n",
    "# By default, MLPPolicy uses \"tanh\" as its activation function for the output.\n",
    "policy = MLPPolicy(\n",
    "    input_dim=train_task.obs_shape[0],\n",
    "    hidden_dims=[64, 64],\n",
    "    output_dim=train_task.act_shape[0],\n",
    "    logger=logger,\n",
    ")\n",
    "\n",
    "# We use PGPE as our evolution algorithm.\n",
    "# If you want to know more about the algorithm, please take a look at the paper:\n",
    "# https://people.idsia.ch/~juergen/nn2010.pdf \n",
    "solver = PGPE(\n",
    "    pop_size=64,\n",
    "    param_size=policy.num_params,\n",
    "    optimizer='adam',\n",
    "    center_learning_rate=0.05,\n",
    "    #seed=seed,\n",
    ")\n",
    "\n",
    "# Now that we have all the three components instantiated, we can create a\n",
    "# trainer and start the training process.\n",
    "solver = PGPE(\n",
    "    pop_size=64,\n",
    "    param_size=policy.num_params,\n",
    "    optimizer='adam',\n",
    "    center_learning_rate=0.05,\n",
    "    seed=seed,\n",
    ")\n",
    "\n",
    "trainer = Trainer(\n",
    "    policy=policy,\n",
    "    solver=solver,\n",
    "    train_task=train_task,\n",
    "    test_task=test_task,\n",
    "    max_iter=150,\n",
    "    log_interval=10,\n",
    "    test_interval=30,\n",
    "    n_repeats=5,\n",
    "    n_evaluations=10,\n",
    "    seed=seed,\n",
    "    log_dir=log_dir,\n",
    "    logger=logger,\n",
    ")\n",
    "\n",
    "_ = trainer.run()\n",
    "\n"
   ]
  },
  {
   "cell_type": "code",
   "execution_count": null,
   "metadata": {},
   "outputs": [],
   "source": []
  },
  {
   "cell_type": "code",
   "execution_count": null,
   "metadata": {},
   "outputs": [],
   "source": []
  }
 ],
 "metadata": {
  "kernelspec": {
   "display_name": "Python 3.9.12 ('evojax')",
   "language": "python",
   "name": "python3"
  },
  "language_info": {
   "codemirror_mode": {
    "name": "ipython",
    "version": 3
   },
   "file_extension": ".py",
   "mimetype": "text/x-python",
   "name": "python",
   "nbconvert_exporter": "python",
   "pygments_lexer": "ipython3",
   "version": "3.9.12"
  },
  "orig_nbformat": 4,
  "vscode": {
   "interpreter": {
    "hash": "a60231d615685e464c890ac161d349a3f6b40968746ade3a89cf7a1e1ae43224"
   }
  }
 },
 "nbformat": 4,
 "nbformat_minor": 2
}
